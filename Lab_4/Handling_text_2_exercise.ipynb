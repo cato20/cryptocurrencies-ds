{
 "cells": [
  {
   "cell_type": "code",
   "execution_count": 1,
   "metadata": {
    "tags": []
   },
   "outputs": [],
   "source": [
    "import numpy as np\n",
    "import pandas as pd\n",
    "import matplotlib.pyplot as plt\n",
    "%matplotlib inline\n",
    "from sklearn.linear_model import LogisticRegressionCV\n",
    "from sklearn.decomposition import TruncatedSVD\n",
    "from sklearn.feature_extraction.text import TfidfVectorizer\n",
    "from helpers.helper_functions import *"
   ]
  },
  {
   "cell_type": "markdown",
   "metadata": {},
   "source": [
    "# Handling text 2 exercise\n",
    "\n",
    "\n",
    "The Sheldon Cooper we all know and love (OK, some of us might not know him, and some might not love him) from the TV series \"The Big Bang Theory\" has gotten into an argument with Leonard from the same TV show. Sheldon insists that he knows the show better than anyone, and keeps making various claims about the show, which neither of them know how to prove or disprove. The two of them have reached out to you ladies and gentlemen, as data scientists, to help them. You will be given the full script of the series, with information on the episode, the scene, the person saying each dialogue line, and the dialogue lines themselves.\n",
    "\n",
    "Leonard has challenged several of Sheldon's claims about the show, and throughout this exam you will see some of those and you will get to prove or disprove them, but remember: sometimes, we can neither prove a claim, nor disprove it!"
   ]
  },
  {
   "cell_type": "markdown",
   "metadata": {},
   "source": [
    "## Task A: Picking up the shovel\n",
    "\n",
    "**Note: You will use the data you preprocess in this task in all the subsequent ones.**\n",
    "\n",
    "Our friends' argument concerns the entire show. We have given you a file in the `data/` folder that contains the script of every single episode. New episodes are indicated by '>>', new scenes by '>', and the rest of the lines are dialogue lines. Some lines are said by multiple people (for example, lines indicated by 'All' or 'Together'); **you must discard these lines**, for the sake of simplicity. However, you do not need to do it for Q1 in this task -- you'll take care of it when you solve Q2.\n",
    "\n",
    "**Q1**. Your first task is to extract all lines of dialogue in each scene and episode, creating a dataframe where each row has the episode and scene where a dialogue line was said, the character who said it, and the line itself. You do not need to extract the proper name of the episode (e.g. episode 1 can appear as \"Series 01 Episode 01 - Pilot Episode\", and doesn't need to appear as \"Pilot Episode\"). Then, answer the following question: In total, how many scenes are there in each season? We're not asking about unique scenes; the same location appearing in two episodes counts as two scenes. You can use a Pandas dataframe with a season column and a scene count column as the response.\n",
    "\n",
    "**Note: The data refers to seasons as \"series\".**"
   ]
  },
  {
   "cell_type": "code",
   "execution_count": 2,
   "metadata": {},
   "outputs": [
    {
     "name": "stdout",
     "output_type": "stream",
     "text": [
      ">> Series 01 Episode 01 – Pilot Episode\n",
      "> A corridor at a sperm bank.\n",
      "Sheldon: So if a photon is directed through a plane with two slits in it and either slit is observed it will not go through both slits. If it’s unobserved it will, however, if it’s observed after it’s left the plane but before it hits its target, it will not have gone through both slits.\n",
      "Leonard: Agreed, what’s your point?\n",
      "Sheldon: There’s no point, I just think it’s a good idea for a tee-shirt.\n",
      "Leonard: Excuse me?\n",
      "Receptionist: Hang on.\n",
      "Leonard: One across is Aegean, eight down is Nabakov, twenty-six across is MCM, f\n"
     ]
    }
   ],
   "source": [
    "# your code goes here\n",
    "\n",
    "import spacy, codecs, os\n",
    "corpus_root = 'data/'\n",
    "nlp = spacy.load('en_core_web_sm')\n",
    "with codecs.open(os.path.join(corpus_root,\"all_scripts.txt\"),encoding=\"utf8\") as f:\n",
    "            book = f.read()\n",
    "print(book[0:600])"
   ]
  },
  {
   "cell_type": "code",
   "execution_count": 3,
   "metadata": {},
   "outputs": [
    {
     "name": "stdout",
     "output_type": "stream",
     "text": [
      ">> Series 01 Episode 01 – Pilot Episode\n"
     ]
    }
   ],
   "source": [
    "lines = book.splitlines() \n",
    "print(lines[0])"
   ]
  },
  {
   "cell_type": "code",
   "execution_count": 4,
   "metadata": {},
   "outputs": [
    {
     "data": {
      "text/html": [
       "<div>\n",
       "<style scoped>\n",
       "    .dataframe tbody tr th:only-of-type {\n",
       "        vertical-align: middle;\n",
       "    }\n",
       "\n",
       "    .dataframe tbody tr th {\n",
       "        vertical-align: top;\n",
       "    }\n",
       "\n",
       "    .dataframe thead th {\n",
       "        text-align: right;\n",
       "    }\n",
       "</style>\n",
       "<table border=\"1\" class=\"dataframe\">\n",
       "  <thead>\n",
       "    <tr style=\"text-align: right;\">\n",
       "      <th></th>\n",
       "      <th>season</th>\n",
       "      <th>episode</th>\n",
       "      <th>scene</th>\n",
       "      <th>character</th>\n",
       "      <th>line</th>\n",
       "    </tr>\n",
       "  </thead>\n",
       "  <tbody>\n",
       "    <tr>\n",
       "      <th>51282</th>\n",
       "      <td>Series 10</td>\n",
       "      <td>Series 10 Episode 24 – The Long Distance Diss...</td>\n",
       "      <td>Sheldon and Amy’s apartment.</td>\n",
       "      <td>Penny</td>\n",
       "      <td>Don’t look at me like that, I tried.</td>\n",
       "    </tr>\n",
       "    <tr>\n",
       "      <th>51283</th>\n",
       "      <td>Series 10</td>\n",
       "      <td>Series 10 Episode 24 – The Long Distance Diss...</td>\n",
       "      <td>Sheldon’s office.</td>\n",
       "      <td>Ramona</td>\n",
       "      <td>Hey, did you eat yet?</td>\n",
       "    </tr>\n",
       "    <tr>\n",
       "      <th>51284</th>\n",
       "      <td>Series 10</td>\n",
       "      <td>Series 10 Episode 24 – The Long Distance Diss...</td>\n",
       "      <td>Sheldon’s office.</td>\n",
       "      <td>Sheldon</td>\n",
       "      <td>Uh, breakfast yes, lunch no. I did have a cou...</td>\n",
       "    </tr>\n",
       "    <tr>\n",
       "      <th>51285</th>\n",
       "      <td>Series 10</td>\n",
       "      <td>Series 10 Episode 24 – The Long Distance Diss...</td>\n",
       "      <td>Sheldon’s office.</td>\n",
       "      <td>Ramona</td>\n",
       "      <td>Well, perfect. I made us sandwiches.</td>\n",
       "    </tr>\n",
       "    <tr>\n",
       "      <th>51286</th>\n",
       "      <td>Series 10</td>\n",
       "      <td>Series 10 Episode 24 – The Long Distance Diss...</td>\n",
       "      <td>Sheldon’s office.</td>\n",
       "      <td>Sheldon</td>\n",
       "      <td>How thoughtful. Thank you.</td>\n",
       "    </tr>\n",
       "    <tr>\n",
       "      <th>51287</th>\n",
       "      <td>Series 10</td>\n",
       "      <td>Series 10 Episode 24 – The Long Distance Diss...</td>\n",
       "      <td>Sheldon’s office.</td>\n",
       "      <td>Ramona</td>\n",
       "      <td>Mmm. No big deal, I enjoy spending time with ...</td>\n",
       "    </tr>\n",
       "    <tr>\n",
       "      <th>51288</th>\n",
       "      <td>Series 10</td>\n",
       "      <td>Series 10 Episode 24 – The Long Distance Diss...</td>\n",
       "      <td>Sheldon’s office.</td>\n",
       "      <td>Sheldon</td>\n",
       "      <td>And I with you. Question, are you seeking a r...</td>\n",
       "    </tr>\n",
       "    <tr>\n",
       "      <th>51289</th>\n",
       "      <td>Series 10</td>\n",
       "      <td>Series 10 Episode 24 – The Long Distance Diss...</td>\n",
       "      <td>Sheldon’s office.</td>\n",
       "      <td>Ramona</td>\n",
       "      <td>What if I were?</td>\n",
       "    </tr>\n",
       "    <tr>\n",
       "      <th>51290</th>\n",
       "      <td>Series 10</td>\n",
       "      <td>Series 10 Episode 24 – The Long Distance Diss...</td>\n",
       "      <td>Sheldon’s office.</td>\n",
       "      <td>Sheldon</td>\n",
       "      <td>Well, that would raise a number of problems. ...</td>\n",
       "    </tr>\n",
       "    <tr>\n",
       "      <th>51291</th>\n",
       "      <td>Series 10</td>\n",
       "      <td>Series 10 Episode 24 – The Long Distance Diss...</td>\n",
       "      <td>Princeton.</td>\n",
       "      <td>Sheldon</td>\n",
       "      <td>(Knock, knock, knock) Amy. (Knock, knock, kno...</td>\n",
       "    </tr>\n",
       "  </tbody>\n",
       "</table>\n",
       "</div>"
      ],
      "text/plain": [
       "           season                                            episode  \\\n",
       "51282   Series 10   Series 10 Episode 24 – The Long Distance Diss...   \n",
       "51283   Series 10   Series 10 Episode 24 – The Long Distance Diss...   \n",
       "51284   Series 10   Series 10 Episode 24 – The Long Distance Diss...   \n",
       "51285   Series 10   Series 10 Episode 24 – The Long Distance Diss...   \n",
       "51286   Series 10   Series 10 Episode 24 – The Long Distance Diss...   \n",
       "51287   Series 10   Series 10 Episode 24 – The Long Distance Diss...   \n",
       "51288   Series 10   Series 10 Episode 24 – The Long Distance Diss...   \n",
       "51289   Series 10   Series 10 Episode 24 – The Long Distance Diss...   \n",
       "51290   Series 10   Series 10 Episode 24 – The Long Distance Diss...   \n",
       "51291   Series 10   Series 10 Episode 24 – The Long Distance Diss...   \n",
       "\n",
       "                               scene character  \\\n",
       "51282   Sheldon and Amy’s apartment.     Penny   \n",
       "51283              Sheldon’s office.    Ramona   \n",
       "51284              Sheldon’s office.   Sheldon   \n",
       "51285              Sheldon’s office.    Ramona   \n",
       "51286              Sheldon’s office.   Sheldon   \n",
       "51287              Sheldon’s office.    Ramona   \n",
       "51288              Sheldon’s office.   Sheldon   \n",
       "51289              Sheldon’s office.    Ramona   \n",
       "51290              Sheldon’s office.   Sheldon   \n",
       "51291                     Princeton.   Sheldon   \n",
       "\n",
       "                                                    line  \n",
       "51282               Don’t look at me like that, I tried.  \n",
       "51283                              Hey, did you eat yet?  \n",
       "51284   Uh, breakfast yes, lunch no. I did have a cou...  \n",
       "51285               Well, perfect. I made us sandwiches.  \n",
       "51286                         How thoughtful. Thank you.  \n",
       "51287   Mmm. No big deal, I enjoy spending time with ...  \n",
       "51288   And I with you. Question, are you seeking a r...  \n",
       "51289                                    What if I were?  \n",
       "51290   Well, that would raise a number of problems. ...  \n",
       "51291   (Knock, knock, knock) Amy. (Knock, knock, kno...  "
      ]
     },
     "execution_count": 4,
     "metadata": {},
     "output_type": "execute_result"
    }
   ],
   "source": [
    "episodes=[]\n",
    "scenes = []\n",
    "characters = []\n",
    "lineas = []\n",
    "seasons = []\n",
    "\n",
    "for linea in lines:\n",
    "    if linea.startswith(\">>\"):\n",
    "        episode = linea[2:]\n",
    "        season = episode.split(' E')[0]\n",
    "    else:\n",
    "        if linea.startswith(\">\"):\n",
    "            scene = linea[1:]\n",
    "        else:\n",
    "            character = linea.split(':')[0]\n",
    "            line_said = linea.split(':')[1]\n",
    "            seasons.append(season)\n",
    "            episodes.append(episode)\n",
    "            scenes.append(scene)\n",
    "            characters.append(character)\n",
    "            lineas.append(line_said)\n",
    "\n",
    "row = {\"season\":seasons,\"episode\":episodes,\"scene\":scenes,\"character\":characters,\"line\":lineas}\n",
    "\n",
    "data_frame = pd.DataFrame(data=row) \n",
    "data_frame.tail(10)"
   ]
  },
  {
   "cell_type": "code",
   "execution_count": 5,
   "metadata": {},
   "outputs": [
    {
     "data": {
      "text/plain": [
       "season\n",
       " Series 01    157\n",
       " Series 02    205\n",
       " Series 03    193\n",
       " Series 04    219\n",
       " Series 05    198\n",
       " Series 06    211\n",
       " Series 07    207\n",
       " Series 08    191\n",
       " Series 09    177\n",
       " Series 10    189\n",
       "Name: scene, dtype: int64"
      ]
     },
     "execution_count": 5,
     "metadata": {},
     "output_type": "execute_result"
    }
   ],
   "source": [
    "var = data_frame.groupby(by=[\"season\",\"episode\"])\n",
    "var = var.agg({\"scene\": \"nunique\"})\n",
    "var = var.reset_index()\n",
    "var.groupby(by=\"season\")['scene'].sum()"
   ]
  },
  {
   "cell_type": "markdown",
   "metadata": {},
   "source": [
    "**Q2**. Now, let's define two sets of characters: all the characters, and recurrent characters. Recurrent characters are those who appear in more than one episode. For the subsequent sections, you will need to have a list of recurrent characters. Assume that there are no two _named characters_ (i.e. characters who have actual names and aren't referred to generically as \"little girl\", \"grumpy grandpa\", etc.) with the same name, i.e. there are no two Sheldons, etc. Generate a list of recurrent characters who have more than 90 dialogue lines in total, and then take a look at the list you have. If you've done this correctly, you should have a list of 20 names. However, one of these is clearly not a recurrent character. Manually remove that one, and print out your list of recurrent characters. To remove that character, pay attention to the _named character_ assumption we gave you earlier on. **For all the subsequent questions, you must only keep the dialogue lines said by the recurrent characters in your list.**"
   ]
  },
  {
   "cell_type": "code",
   "execution_count": 6,
   "metadata": {},
   "outputs": [
    {
     "data": {
      "text/plain": [
       "array(['Amy', 'Arthur', 'Bernadette', 'Bert', 'Beverley', 'Emily',\n",
       "       'Howard', 'Kripke', 'Leonard', 'Leslie', 'Mrs Cooper',\n",
       "       'Mrs Wolowitz', 'Penny', 'Priya', 'Raj', 'Sheldon', 'Stuart',\n",
       "       'Wil', 'Zack'], dtype=object)"
      ]
     },
     "execution_count": 6,
     "metadata": {},
     "output_type": "execute_result"
    }
   ],
   "source": [
    "# your code goes here\n",
    "# Groupby episode and count unique values of character\n",
    "characters=data_frame.groupby('character')['episode'].nunique()\n",
    "# dialogs_per_episode = data_frame.groupby('episode')['character'].value_counts()\n",
    "# dialogs_per_episode\n",
    "dialogs_characters = data_frame.groupby('character').count()\n",
    "recurrent_chars =np.array(dialogs_characters[dialogs_characters.episode>90].index)\n",
    "recurrent_chars = np.delete(recurrent_chars,10)\n",
    "recurrent_chars\n",
    "# recurrent_chars = dialogs[lambda x:x>90].index.get_level_values('character').count()\n",
    "# dialogs.apply(lambda g: g['character']>90)\n",
    "# characters[lambda x:x>1]"
   ]
  },
  {
   "cell_type": "markdown",
   "metadata": {},
   "source": [
    "## Task B: Read the scripts carefully\n",
    "\n",
    "### Part 1: Don't put the shovel down just yet\n",
    "\n",
    "**Q3**. From each dialogue line, replace punctuation marks (listed in the EXCLUDE_CHARS variable provided in `helpers/helper_functions.py`) with whitespaces, and lowercase all the text. **Do not remove any stopwords, leave them be for all the questions in this task.**"
   ]
  },
  {
   "cell_type": "code",
   "execution_count": 7,
   "metadata": {},
   "outputs": [
    {
     "data": {
      "text/plain": [
       "' Agreed  what s your point '"
      ]
     },
     "execution_count": 7,
     "metadata": {},
     "output_type": "execute_result"
    }
   ],
   "source": [
    "# your code goes here\n",
    "# Imported the set of exclude chars\n",
    "from helpers.helper_functions import EXCLUDE_CHARS\n",
    "EXCLUDE_CHARS\n",
    "# function for replacing the exclude chars with a white space\n",
    "def replaceExcludeChars(line):\n",
    "    for character in EXCLUDE_CHARS:\n",
    "        line = line.replace(character,' ')\n",
    "    return line\n",
    "# apply the function for each line\n",
    "data_frame['line']=data_frame['line'].apply(replaceExcludeChars)\n",
    "data_frame['line'][1]"
   ]
  },
  {
   "cell_type": "markdown",
   "metadata": {},
   "source": [
    "**Q4**. For each term, calculate its \"corpus frequency\", i.e. its number of occurrences in the entire series. Visualize the distribution of corpus frequency using a histogram. Explain your observations. What are the appropriate x and y scales for this plot?"
   ]
  },
  {
   "cell_type": "code",
   "execution_count": 8,
   "metadata": {},
   "outputs": [
    {
     "data": {
      "text/plain": [
       "Text(0.5, 1.0, 'corpus frequency Bar Chart')"
      ]
     },
     "execution_count": 8,
     "metadata": {},
     "output_type": "execute_result"
    },
    {
     "data": {
      "image/png": "[encoded data removed]",
      "text/plain": [
       "<Figure size 1440x720 with 1 Axes>"
      ]
     },
     "metadata": {
      "needs_background": "light"
     },
     "output_type": "display_data"
    }
   ],
   "source": [
    "# your code goes here\n",
    "frequency_terms = data_frame.line.str.split(expand=True).stack().value_counts()[:20]\n",
    "plt.figure(figsize=(20,10))\n",
    "plt.barh(frequency_terms.index,frequency_terms.values)\n",
    "plt.xlabel('Frequencies of terms')\n",
    "plt.ylabel('Terms')\n",
    "plt.title('corpus frequency Bar Chart')"
   ]
  },
  {
   "cell_type": "markdown",
   "metadata": {},
   "source": [
    "### Part 2: Talkativity\n",
    "**Q5**. For each of the recurrent characters, calculate their total number of words uttered across all episodes. Based on this, who seems to be the most talkative character?"
   ]
  },
  {
   "cell_type": "code",
   "execution_count": 9,
   "metadata": {},
   "outputs": [
    {
     "data": {
      "text/plain": [
       "Text(0.5, 1.0, 'Recurrent Characters vs Total num words, Bar Chart')"
      ]
     },
     "execution_count": 9,
     "metadata": {},
     "output_type": "execute_result"
    },
    {
     "data": {
      "image/png": "[encoded data removed]",
      "text/plain": [
       "<Figure size 720x576 with 1 Axes>"
      ]
     },
     "metadata": {
      "needs_background": "light"
     },
     "output_type": "display_data"
    }
   ],
   "source": [
    "# your code goes here\n",
    "pd.options.mode.chained_assignment = None  # default='warn'\n",
    "\n",
    "df_recurrent_chars = data_frame[data_frame['character'].isin(recurrent_chars)] \n",
    "def count_words(line):\n",
    "    return len(line.split())\n",
    "df_recurrent_chars['words'] = df_recurrent_chars['line'].apply(count_words)\n",
    "df_recurrent_chars.head()\n",
    "words_per_character = df_recurrent_chars.groupby('character').words.sum().sort_values()\n",
    "plt.figure(figsize=(10,8))\n",
    "plt.barh(words_per_character.index,words_per_character.values)\n",
    "plt.xlabel('Total number of words')\n",
    "plt.ylabel('Character')\n",
    "plt.title('Recurrent Characters vs Total num words, Bar Chart')"
   ]
  },
  {
   "cell_type": "markdown",
   "metadata": {},
   "source": [
    "## Task C: The Detective's Hat\n",
    "\n",
    "Sheldon claims that given a dialogue line, he can, with an accuracy of above 70%, say whether it's by himself or by someone else. Leonard contests this claim, since he believes that this claimed accuracy is too high. Leonard also suspects that it's easier for Sheldon to distinguish the lines that _aren't_ his, rather than those that _are_. We want you to put on the (proverbial) detective's hat and to investigate this claim.\n",
    "\n",
    "**Q6**. Divide the set of all dialogue lines into two subsets: the training set, consisting of all the seasons except the last two, and the test set, consisting of the last two seasons. Each of your data points (which is one row of your matrix) is one **dialogue line**. Now, use the scikit-learn class **TfIdfVectorizer** to create TF-IDF representations for the data points in your training and test sets. Note that since you're going to train a machine learning model, everything used in the training needs to be independent of the test set. As a preprocessing step, remove stopwords and words that appear only once from your vocabulary. Use the simple tokenizer provided in `helpers/helper_functions.py` as an input to the TfidfVectorizer class, and use the words provided in `helpers/stopwords.txt` as your stopwords."
   ]
  },
  {
   "cell_type": "code",
   "execution_count": 10,
   "metadata": {},
   "outputs": [],
   "source": [
    "# your code goes here\n",
    "from sklearn.feature_extraction.text import TfidfVectorizer\n",
    "from helpers.helper_functions import simple_tokeniser\n",
    "\n",
    "# Reading the stop words\n",
    "stop_words = pd.read_csv('./helpers/stopwords.txt',sep='\\n',header=None)\n",
    "\n",
    "# Diving the DF in x_train and x_test\n",
    "x_train = data_frame[~(data_frame['season']==' Series 09')]\n",
    "x_train = x_train[~(x_train['season']==' Series 10')]\n",
    "x_test = data_frame[(data_frame['season']==' Series 09')]\n",
    "x_test = pd.concat([x_test, data_frame[(data_frame['season']==' Series 10')]])\n",
    "\n",
    "tokeniser = x_train['line'].apply(simple_tokeniser)\n",
    "# tokeniser_clean = [[]for in tokeniser]\n",
    "# vectorizer = TfidfVectorizer()\n",
    "# x_train = vectorizer.fit_transform(x_train['line'])\n",
    "# vectorizer.get_feature_names_out()\n"
   ]
  },
  {
   "cell_type": "markdown",
   "metadata": {},
   "source": [
    "**Q7**. Find the set of all words in the training set that are only uttered by Sheldon. Is it possible for Sheldon to identify himself only based on these? Use the test set to assess this possibility, and explain your method."
   ]
  },
  {
   "cell_type": "code",
   "execution_count": 11,
   "metadata": {},
   "outputs": [],
   "source": [
    "# your code goes here\n",
    "# Getting from train the most common words of sheldon\n",
    "from collections import Counter\n",
    "stopwords=stop_words.values.tolist()\n",
    "list_stopword = [item for sublist in stopwords for item in sublist]\n",
    "x_train_sheldon = x_train[x_train['character'] == 'Sheldon']\n",
    "x_train_sheldon = x_train_sheldon['line'].apply(simple_tokeniser)\n",
    "frequency_words_by_line =[Counter(line) for line in x_train_sheldon]\n",
    "total_frequency_words_sheldon = sum(frequency_words_by_line,Counter())\n",
    "total_frequency_words_sheldon =total_frequency_words_sheldon.most_common()\n",
    "common_words_clean = [word for word in total_frequency_words_sheldon if word[0].lower() not in list_stopword]\n"
   ]
  },
  {
   "cell_type": "code",
   "execution_count": 12,
   "metadata": {},
   "outputs": [
    {
     "data": {
      "text/plain": [
       "[('Leonard', 659),\n",
       " ('know', 600),\n",
       " ('knock', 586),\n",
       " ('Well', 502),\n",
       " ('Penny', 483),\n",
       " ('like', 478),\n",
       " ('one', 473),\n",
       " ('right', 437),\n",
       " ('going', 390),\n",
       " ('would', 390),\n",
       " ('ve', 369),\n",
       " ('ll', 369),\n",
       " ('get', 334),\n",
       " ('think', 313),\n",
       " ('time', 294),\n",
       " ('go', 292),\n",
       " ('see', 289),\n",
       " ('Knock', 259),\n",
       " ('want', 258),\n",
       " ('d', 258)]"
      ]
     },
     "execution_count": 12,
     "metadata": {},
     "output_type": "execute_result"
    }
   ],
   "source": [
    "common_words_clean[:20]"
   ]
  },
  {
   "cell_type": "code",
   "execution_count": 13,
   "metadata": {},
   "outputs": [
    {
     "data": {
      "text/plain": [
       "[('know', 232),\n",
       " ('Well', 195),\n",
       " ('like', 162),\n",
       " ('Amy', 122),\n",
       " ('get', 115),\n",
       " ('Leonard', 108),\n",
       " ('ll', 107),\n",
       " ('one', 106),\n",
       " ('right', 102),\n",
       " ('ve', 86),\n",
       " ('think', 79),\n",
       " ('knock', 79),\n",
       " ('time', 75),\n",
       " ('going', 73),\n",
       " ('could', 72),\n",
       " ('would', 72),\n",
       " ('see', 69),\n",
       " ('d', 69),\n",
       " ('say', 68),\n",
       " ('need', 64)]"
      ]
     },
     "execution_count": 13,
     "metadata": {},
     "output_type": "execute_result"
    }
   ],
   "source": [
    "# Getting from test the most commons words of sheldon\n",
    "x_test_sheldon = x_test[x_test['character'] == 'Sheldon']\n",
    "x_test_sheldon = x_test_sheldon['line'].apply(simple_tokeniser)\n",
    "frequency_words_by_line =[Counter(line) for line in x_test_sheldon]\n",
    "total_frequency_words_sheldon_test = sum(frequency_words_by_line,Counter())\n",
    "total_frequency_words_sheldon_test =total_frequency_words_sheldon_test.most_common()\n",
    "common_words_test = [word for word in total_frequency_words_sheldon_test if word[0].lower() not in list_stopword]\n",
    "common_words_test[:20]"
   ]
  },
  {
   "cell_type": "code",
   "execution_count": 14,
   "metadata": {},
   "outputs": [
    {
     "data": {
      "text/plain": [
       "['Leonard',\n",
       " 'know',\n",
       " 'knock',\n",
       " 'Well',\n",
       " 'like',\n",
       " 'one',\n",
       " 'right',\n",
       " 'going',\n",
       " 'would',\n",
       " 've',\n",
       " 'll',\n",
       " 'get',\n",
       " 'think',\n",
       " 'time',\n",
       " 'see',\n",
       " 'd']"
      ]
     },
     "execution_count": 14,
     "metadata": {},
     "output_type": "execute_result"
    }
   ],
   "source": [
    "list_words_test =[word[0] for word in common_words_test[:20]]\n",
    "[word[0] for word in common_words_clean[:20] if word[0] in list_words_test ]\n",
    "# Con 20 palabras de training de sheldon y igual de test\n",
    "# 16 palabras son las que se vuelven a repetir en test\n",
    "# Podemos decir que con un 80% las palabras de test, son de sheldon."
   ]
  },
  {
   "cell_type": "markdown",
   "metadata": {},
   "source": [
    "**Q8**. Now, perform singular value decomposition (SVD) on the training TF-IDF matrix, and calculate a **25-dimensional approximation** for both the training and test TF-IDF matrices (you can do this using scikit-learn's **TruncatedSVD** class). Then, train a logistic regression classifier with 10-fold cross-validation (using the scikit-learn **LogisticRegressionCV** class) on the output of the SVD that given a dialogue line, tells you whether it's by Sheldon or by someone else.\n",
    "\n",
    "&nbsp;&nbsp;&nbsp;&nbsp;&nbsp;&nbsp;**i)** Report precision, recall and F1-score for both classes (Sheldon and not-Sheldon), as well as accuracy, of your classifier on the training set and the test set. You need to implement the calculation of the evaluation measures (precision, etc.) yourself -- using the scikit-learn functions for them is not allowed.\n",
    "\n",
    "&nbsp;&nbsp;&nbsp;&nbsp;&nbsp;&nbsp;**ii)** What difference do you observe between the model's scores on the training and test sets? What could you infer from the amount of difference you see? What about the difference between scores on the two classes? Given the performance of your classifier, is Leonard right that the accuracy Sheldon claims is unattainable? What about his suspicions about the lines that Sheldon can and cannot distinguish?\n",
    "    \n",
    "&nbsp;&nbsp;&nbsp;&nbsp;&nbsp;&nbsp;**iii)** List 10 of the most extreme false positives and 10 of the most extreme false negatives, in terms of the probabilities predicted by the logistic regression model. What are common features of false positives? What about the false negatives?\n",
    "    \n",
    "&nbsp;&nbsp;&nbsp;&nbsp;&nbsp;&nbsp;**iv)** What is the most important feature in the model? What are the 5 most important words in this feature? _Hint: Think of the definition of an SVD, and that you did an SVD on the TF-IDF matrix with dialogue lines as rows and words as columns. You have projected the original data points onto a 25-dimensional subspace -- you need to look at the unit vectors you used for the projection._"
   ]
  },
  {
   "cell_type": "code",
   "execution_count": 15,
   "metadata": {
    "tags": []
   },
   "outputs": [],
   "source": [
    "# your code goes here"
   ]
  }
 ],
 "metadata": {
  "kernelspec": {
   "display_name": "Python 3 (ipykernel)",
   "language": "python",
   "name": "python3"
  },
  "language_info": {
   "codemirror_mode": {
    "name": "ipython",
    "version": 3
   },
   "file_extension": ".py",
   "mimetype": "text/x-python",
   "name": "python",
   "nbconvert_exporter": "python",
   "pygments_lexer": "ipython3",
   "version": "3.8.12"
  },
  "varInspector": {
   "cols": {
    "lenName": 16,
    "lenType": 16,
    "lenVar": 40
   },
   "kernels_config": {
    "python": {
     "delete_cmd_postfix": "",
     "delete_cmd_prefix": "del ",
     "library": "var_list.py",
     "varRefreshCmd": "print(var_dic_list())"
    },
    "r": {
     "delete_cmd_postfix": ") ",
     "delete_cmd_prefix": "rm(",
     "library": "var_list.r",
     "varRefreshCmd": "cat(var_dic_list()) "
    }
   },
   "types_to_exclude": [
    "module",
    "function",
    "builtin_function_or_method",
    "instance",
    "_Feature"
   ],
   "window_display": false
  }
 },
 "nbformat": 4,
 "nbformat_minor": 4
}
